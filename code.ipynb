{
 "cells": [
  {
   "cell_type": "code",
   "execution_count": 8,
   "id": "587e75f8",
   "metadata": {},
   "outputs": [],
   "source": [
    "import mss\n",
    "import keyboard\n",
    "from PIL import Image\n",
    "import pyperclipimg as pci\n",
    "import time\n",
    "import pyautogui"
   ]
  },
  {
   "cell_type": "code",
   "execution_count": null,
   "id": "d9877e67",
   "metadata": {},
   "outputs": [],
   "source": [
    "def paste_and_enter_at_bottom_right():\n",
    "    # 1) Define your base-resolution and the point you picked there\n",
    "    BASE_WIDTH, BASE_HEIGHT = 2560, 1440   # your 2K monitor’s resolution\n",
    "    base_x, base_y = 1754, 1250           # the Point you recorded\n",
    "\n",
    "    # 2) Compute relative fractions\n",
    "    rel_x = base_x / BASE_WIDTH\n",
    "    rel_y = base_y / BASE_HEIGHT\n",
    "\n",
    "    # 3) At runtime, get current screen size and scale\n",
    "    screen_w, screen_h = pyautogui.size()\n",
    "    x = int(screen_w * rel_x)\n",
    "    y = int(screen_h * rel_y)\n",
    "    \n",
    "    pyautogui.moveTo(x, y)\n",
    "    pyautogui.click()  # Focus the input box\n",
    "    \n",
    "    pyautogui.hotkey('ctrl', 'v')\n",
    "    time.sleep(0.2)\n",
    "    pyautogui.press('enter')\n",
    "    time.sleep(1.5)\n",
    "    pyautogui.press('enter')"
   ]
  },
  {
   "cell_type": "code",
   "execution_count": 26,
   "id": "4b9ba57f",
   "metadata": {},
   "outputs": [],
   "source": [
    "def capture_and_copy():\n",
    "    with mss.mss() as sct:\n",
    "        monitor = sct.monitors[1]  # Primary monitor\n",
    "        width = monitor['width'] // 2\n",
    "        height = monitor['height']\n",
    "        left = monitor['left']\n",
    "        top = monitor['top']\n",
    "\n",
    "        # Define the region to capture\n",
    "        region = {\n",
    "            \"top\": top,\n",
    "            \"left\": left,\n",
    "            \"width\": width,\n",
    "            \"height\": height\n",
    "        }\n",
    "\n",
    "        # Capture the region\n",
    "        screenshot = sct.grab(region)\n",
    "\n",
    "        # Convert to PIL Image\n",
    "        img = Image.frombytes('RGB', screenshot.size, screenshot.rgb)\n",
    "\n",
    "        # Copy to clipboard\n",
    "        pci.copy(img)\n",
    "        print(\"Left half of the screen copied to clipboard.\")\n",
    "\n",
    "        paste_and_enter_at_bottom_right()\n",
    "\n",
    "\n"
   ]
  },
  {
   "cell_type": "code",
   "execution_count": 28,
   "id": "80d891cb",
   "metadata": {},
   "outputs": [
    {
     "name": "stdout",
     "output_type": "stream",
     "text": [
      "Press F6 to capture the left half of the screen. Press ESC to exit.\n",
      "Left half of the screen copied to clipboard.\n",
      "Exiting...\n"
     ]
    }
   ],
   "source": [
    "print(\"Press F6 to capture the left half of the screen. Press ESC to exit.\")\n",
    "while True:\n",
    "    try:\n",
    "        if keyboard.is_pressed('f6'):\n",
    "            capture_and_copy()\n",
    "            time.sleep(0.5)  # Prevent multiple captures on a single press\n",
    "        elif keyboard.is_pressed('esc'):\n",
    "            print(\"Exiting...\")\n",
    "            break\n",
    "        time.sleep(0.1)\n",
    "    except:\n",
    "        break"
   ]
  },
  {
   "cell_type": "code",
   "execution_count": null,
   "id": "f91fe4c4",
   "metadata": {},
   "outputs": [],
   "source": []
  }
 ],
 "metadata": {
  "kernelspec": {
   "display_name": "Python 3",
   "language": "python",
   "name": "python3"
  },
  "language_info": {
   "codemirror_mode": {
    "name": "ipython",
    "version": 3
   },
   "file_extension": ".py",
   "mimetype": "text/x-python",
   "name": "python",
   "nbconvert_exporter": "python",
   "pygments_lexer": "ipython3",
   "version": "3.10.10"
  }
 },
 "nbformat": 4,
 "nbformat_minor": 5
}
